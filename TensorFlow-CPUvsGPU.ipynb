{
 "cells": [
  {
   "cell_type": "code",
   "execution_count": 1,
   "metadata": {},
   "outputs": [],
   "source": [
    "import tensorflow as tf\n",
    "from tensorflow.keras.layers import Dense, Flatten, Conv2D\n",
    "from tensorflow.keras import Model"
   ]
  },
  {
   "cell_type": "code",
   "execution_count": 2,
   "metadata": {},
   "outputs": [],
   "source": [
    "import time"
   ]
  },
  {
   "cell_type": "code",
   "execution_count": 3,
   "metadata": {},
   "outputs": [
    {
     "data": {
      "text/plain": [
       "[]"
      ]
     },
     "execution_count": 3,
     "metadata": {},
     "output_type": "execute_result"
    }
   ],
   "source": [
    "tf.config.list_physical_devices('GPU')"
   ]
  },
  {
   "cell_type": "markdown",
   "metadata": {},
   "source": [
    "### About the mnist data set : http://yann.lecun.com/exdb/mnist/"
   ]
  },
  {
   "cell_type": "code",
   "execution_count": 4,
   "metadata": {
    "scrolled": true
   },
   "outputs": [],
   "source": [
    "\n",
    "mnist = tf.keras.datasets.mnist\n",
    "\n",
    "(x_train, y_train), (x_test, y_test) = mnist.load_data()\n",
    "x_train, x_test = x_train / 255.0, x_test / 255.0\n",
    "\n",
    "template1 ='whole : {} | lev 1: {} | lev 2: {}'\n",
    "# print(template1.format(len(x_train), len(x_train[0]), len(x_train[0][0]), len(x_train[0][0]), \"\\n\", (\"=\")*30))\n",
    "\n",
    "# print(\"This is whole:\", \"\\n\", (\"-\")*30, \"\\n\", x_train, \"\\n\", (\"=\")*30)\n",
    "# print(\"This is lev 1:\", \" \\n\", (\"-\")*30, \"\\n\", x_train[0], \"\\n\", (\"=\")*30)\n",
    "# print(\"This is lev 2:\", \" \\n\", (\"-\")*30, \"\\n\", x_train[0][0], \"\\n\", (\"=\")*30)\n",
    "# print(\"This is lev 3:\", \" \\n\", (\"-\")*30, \"\\n\", x_train[0][0][0], \"\\n\", (\"=\")*30)"
   ]
  },
  {
   "cell_type": "code",
   "execution_count": 5,
   "metadata": {
    "scrolled": true
   },
   "outputs": [],
   "source": [
    "# Add a channels dimension\n",
    "x_train = x_train[..., tf.newaxis]\n",
    "x_test = x_test[..., tf.newaxis]\n",
    "\n",
    "template1 ='whole: {} | lev 1: {} | lev 2: {} | lev 3: {}'\n",
    "# print(template1.format(len(x_train), len(x_train[0]), len(x_train[0][0]), len(x_train[0][0][0]), \"\\n\", (\"-\")*30))\n",
    "\n",
    "# print(\"This is whole:\", \"\\n\", (\"-\")*30, \"\\n\", x_train, \"\\n\", (\"=\")*30)\n",
    "# print(\"This is lev 1:\", \" \\n\", (\"-\")*30, \"\\n\", x_train[0], \"\\n\", (\"=\")*30)\n",
    "# print(\"This is lev 2:\", \" \\n\", (\"-\")*30, \"\\n\", x_train[0][0], \"\\n\", (\"=\")*30)\n",
    "# print(\"This is lev 3:\", \" \\n\", (\"-\")*30, \"\\n\", x_train[0][0][0], \"\\n\", (\"=\")*30)\n",
    "# print(\"This is lev 4:\", \" \\n\", (\"-\")*30, \"\\n\", x_train[0][0][0][0], \"\\n\", (\"=\")*30)"
   ]
  },
  {
   "cell_type": "code",
   "execution_count": 6,
   "metadata": {},
   "outputs": [],
   "source": [
    "train_ds = tf.data.Dataset.from_tensor_slices(\n",
    "    (x_train, y_train)).shuffle(10000).batch(32)\n",
    "\n",
    "test_ds = tf.data.Dataset.from_tensor_slices((x_test, y_test)).batch(32)"
   ]
  },
  {
   "cell_type": "code",
   "execution_count": 7,
   "metadata": {},
   "outputs": [],
   "source": [
    "# print(train_ds)\n",
    "# print(test_ds)"
   ]
  },
  {
   "cell_type": "code",
   "execution_count": 8,
   "metadata": {},
   "outputs": [],
   "source": [
    "class MyModel(Model):\n",
    "    def __init__(self):\n",
    "        super(MyModel, self).__init__()\n",
    "        self.conv1 = Conv2D(32, 3, activation='relu')\n",
    "        self.flatten = Flatten()\n",
    "        self.d1 = Dense(128, activation='relu')\n",
    "        self.d2 = Dense(10)\n",
    "\n",
    "    def call(self, x):\n",
    "        x = self.conv1(x)\n",
    "        x = self.flatten(x)\n",
    "        x = self.d1(x)\n",
    "        return self.d2(x)\n",
    "\n",
    "# Create an instance of the model\n",
    "model = MyModel()"
   ]
  },
  {
   "cell_type": "code",
   "execution_count": 9,
   "metadata": {},
   "outputs": [],
   "source": [
    "loss_object = tf.keras.losses.SparseCategoricalCrossentropy(from_logits=True)\n",
    "optimizer = tf.keras.optimizers.Adam()"
   ]
  },
  {
   "cell_type": "code",
   "execution_count": 10,
   "metadata": {},
   "outputs": [],
   "source": [
    "train_loss = tf.keras.metrics.Mean(name='train_loss')\n",
    "train_accuracy = tf.keras.metrics.SparseCategoricalAccuracy(name='train_accuracy')\n",
    "\n",
    "test_loss = tf.keras.metrics.Mean(name='test_loss')\n",
    "test_accuracy = tf.keras.metrics.SparseCategoricalAccuracy(name='test_accuracy')"
   ]
  },
  {
   "cell_type": "code",
   "execution_count": 11,
   "metadata": {},
   "outputs": [],
   "source": [
    "@tf.function\n",
    "def train_step(images, labels):\n",
    "    with tf.GradientTape() as tape:\n",
    "        # training=True is only needed if there are layers with different\n",
    "        # behavior during training versus inference (e.g. Dropout).\n",
    "        predictions = model(images, training=True)\n",
    "        loss = loss_object(labels, predictions)\n",
    "        gradients = tape.gradient(loss, model.trainable_variables)\n",
    "        optimizer.apply_gradients(zip(gradients, model.trainable_variables))\n",
    "\n",
    "        train_loss(loss)\n",
    "        train_accuracy(labels, predictions)"
   ]
  },
  {
   "cell_type": "code",
   "execution_count": 12,
   "metadata": {},
   "outputs": [],
   "source": [
    "@tf.function\n",
    "def test_step(images, labels):\n",
    "    # training=False is only needed if there are layers with different\n",
    "    # behavior during training versus inference (e.g. Dropout).\n",
    "    predictions = model(images, training=False)\n",
    "    t_loss = loss_object(labels, predictions)\n",
    "\n",
    "    test_loss(t_loss)\n",
    "    test_accuracy(labels, predictions)"
   ]
  },
  {
   "cell_type": "code",
   "execution_count": 13,
   "metadata": {},
   "outputs": [],
   "source": [
    "def train_model(epochs):\n",
    "    startTime = time.time()\n",
    "    for epoch in range(epochs):\n",
    "        # Reset the metrics at the start of the next epoch\n",
    "        train_loss.reset_states()\n",
    "        train_accuracy.reset_states()\n",
    "        test_loss.reset_states()\n",
    "        test_accuracy.reset_states()\n",
    "\n",
    "        for images, labels in train_ds:\n",
    "#             train_step(images, labels)\n",
    "#             to suppress the float warning, a better code is below , Henry-Jul. 2, 2020\n",
    "            train_step(tf.cast(images, tf.float32), labels)\n",
    "\n",
    "        for test_images, test_labels in test_ds:\n",
    "#             test_step(test_images, test_labels)\n",
    "            test_step(tf.cast(test_images, tf.float32), test_labels)\n",
    "\n",
    "        template = 'Epoch {} :: Loss: {}, Accuracy: {}, Test Loss: {}, Test Accuracy: {}'\n",
    "        print(template.format(epoch + 1,\n",
    "                                round(train_loss.result(), 3),\n",
    "                                round(train_accuracy.result() * 100, 3),\n",
    "                                round(test_loss.result(), 3),\n",
    "                                round(test_accuracy.result() * 100), 3))\n",
    "        \n",
    "    total_run_time = time.time() - startTime\n",
    "    return total_run_time"
   ]
  },
  {
   "cell_type": "markdown",
   "metadata": {},
   "source": [
    "### Set epochs and iterations"
   ]
  },
  {
   "cell_type": "code",
   "execution_count": 14,
   "metadata": {},
   "outputs": [],
   "source": [
    "epochs =1\n",
    "iteration =3 \n",
    "run_time = []"
   ]
  },
  {
   "cell_type": "code",
   "execution_count": 15,
   "metadata": {},
   "outputs": [
    {
     "ename": "SyntaxError",
     "evalue": "invalid syntax (<ipython-input-15-f242f9b63921>, line 1)",
     "output_type": "error",
     "traceback": [
      "\u001b[1;36m  File \u001b[1;32m\"<ipython-input-15-f242f9b63921>\"\u001b[1;36m, line \u001b[1;32m1\u001b[0m\n\u001b[1;33m    break-here # on purpose so the cpu kernel upon switching won't run & override the benchmark below\u001b[0m\n\u001b[1;37m         ^\u001b[0m\n\u001b[1;31mSyntaxError\u001b[0m\u001b[1;31m:\u001b[0m invalid syntax\n"
     ]
    }
   ],
   "source": [
    "break-here # on purpose so the cpu kernel upon switching won't run & override the benchmark below"
   ]
  },
  {
   "cell_type": "markdown",
   "metadata": {},
   "source": [
    "### Kernel :: tf-cpu-env  :: using CPU"
   ]
  },
  {
   "cell_type": "code",
   "execution_count": null,
   "metadata": {
    "scrolled": true
   },
   "outputs": [],
   "source": [
    "# with cpu\n",
    "for i in range(iteration):\n",
    "    print(f'{(\"-\")*30}\\n Iteration # {i}')\n",
    "    run_time.append(train_model(epochs))\n",
    "    \n",
    "for i in range(iteration):\n",
    "    print(f'{(\"-\")*30}\\nGPU Run Summary ::\\n Run # {i + 1} ::\\\n",
    "        {round(run_time[i]/60, 2)} {\"minutes\" if run_time[i]/60 > 1 else \"minute\"}')"
   ]
  },
  {
   "cell_type": "code",
   "execution_count": null,
   "metadata": {},
   "outputs": [],
   "source": [
    "break-here # on purpose so the cpu kernel upon switching won't run & override the benchmark below"
   ]
  },
  {
   "cell_type": "markdown",
   "metadata": {},
   "source": [
    "### Kernel :: tf-gpu-env  :: using GPU"
   ]
  },
  {
   "cell_type": "code",
   "execution_count": null,
   "metadata": {},
   "outputs": [],
   "source": [
    "# with cpu\n",
    "for i in range(iteration):\n",
    "    print(f'{(\" \")*30}\\n {(\"=\")*10} Iteration # {i} {(\"=\")*10}')\n",
    "    run_time.append(train_model(epochs))\n",
    "    \n",
    "for i in range(iteration):\n",
    "    print(f'{(\"-\")*30}\\nGPU Run Summary ::\\n Run # {i + 1} :: {run_time[i]/60} {\"minutes\" if run_time[i]/60 > 1 else \"minute\"}')"
   ]
  }
 ],
 "metadata": {
  "kernelspec": {
   "display_name": "tf-cpu-env",
   "language": "python",
   "name": "tf-cpu-env"
  },
  "language_info": {
   "codemirror_mode": {
    "name": "ipython",
    "version": 3
   },
   "file_extension": ".py",
   "mimetype": "text/x-python",
   "name": "python",
   "nbconvert_exporter": "python",
   "pygments_lexer": "ipython3",
   "version": "3.7.7"
  }
 },
 "nbformat": 4,
 "nbformat_minor": 4
}
