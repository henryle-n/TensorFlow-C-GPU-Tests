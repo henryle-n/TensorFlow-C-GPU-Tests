{
 "cells": [
  {
   "cell_type": "code",
   "execution_count": 1,
   "metadata": {},
   "outputs": [],
   "source": [
    "import tensorflow as tf\n",
    "from tensorflow.keras.layers import Dense, Flatten, Conv2D\n",
    "from tensorflow.keras import Model"
   ]
  },
  {
   "cell_type": "code",
   "execution_count": 2,
   "metadata": {},
   "outputs": [],
   "source": [
    "import time"
   ]
  },
  {
   "cell_type": "code",
   "execution_count": 3,
   "metadata": {},
   "outputs": [
    {
     "data": {
      "text/plain": [
       "[]"
      ]
     },
     "execution_count": 3,
     "metadata": {},
     "output_type": "execute_result"
    }
   ],
   "source": [
    "tf.config.list_physical_devices('GPU')"
   ]
  },
  {
   "cell_type": "markdown",
   "metadata": {},
   "source": [
    "### About the mnist data set : http://yann.lecun.com/exdb/mnist/"
   ]
  },
  {
   "cell_type": "code",
   "execution_count": 4,
   "metadata": {
    "scrolled": true
   },
   "outputs": [],
   "source": [
    "\n",
    "mnist = tf.keras.datasets.mnist\n",
    "\n",
    "(x_train, y_train), (x_test, y_test) = mnist.load_data()\n",
    "x_train, x_test = x_train / 255.0, x_test / 255.0\n",
    "\n",
    "template1 ='whole : {} | lev 1: {} | lev 2: {}'\n",
    "# print(template1.format(len(x_train), len(x_train[0]), len(x_train[0][0]), len(x_train[0][0]), \"\\n\", (\"=\")*30))\n",
    "\n",
    "# print(\"This is whole:\", \"\\n\", (\"-\")*30, \"\\n\", x_train, \"\\n\", (\"=\")*30)\n",
    "# print(\"This is lev 1:\", \" \\n\", (\"-\")*30, \"\\n\", x_train[0], \"\\n\", (\"=\")*30)\n",
    "# print(\"This is lev 2:\", \" \\n\", (\"-\")*30, \"\\n\", x_train[0][0], \"\\n\", (\"=\")*30)\n",
    "# print(\"This is lev 3:\", \" \\n\", (\"-\")*30, \"\\n\", x_train[0][0][0], \"\\n\", (\"=\")*30)"
   ]
  },
  {
   "cell_type": "code",
   "execution_count": 5,
   "metadata": {
    "scrolled": true
   },
   "outputs": [],
   "source": [
    "# Add a channels dimension\n",
    "x_train = x_train[..., tf.newaxis]\n",
    "x_test = x_test[..., tf.newaxis]\n",
    "\n",
    "template1 ='whole: {} | lev 1: {} | lev 2: {} | lev 3: {}'\n",
    "# print(template1.format(len(x_train), len(x_train[0]), len(x_train[0][0]), len(x_train[0][0][0]), \"\\n\", (\"-\")*30))\n",
    "\n",
    "# print(\"This is whole:\", \"\\n\", (\"-\")*30, \"\\n\", x_train, \"\\n\", (\"=\")*30)\n",
    "# print(\"This is lev 1:\", \" \\n\", (\"-\")*30, \"\\n\", x_train[0], \"\\n\", (\"=\")*30)\n",
    "# print(\"This is lev 2:\", \" \\n\", (\"-\")*30, \"\\n\", x_train[0][0], \"\\n\", (\"=\")*30)\n",
    "# print(\"This is lev 3:\", \" \\n\", (\"-\")*30, \"\\n\", x_train[0][0][0], \"\\n\", (\"=\")*30)\n",
    "# print(\"This is lev 4:\", \" \\n\", (\"-\")*30, \"\\n\", x_train[0][0][0][0], \"\\n\", (\"=\")*30)"
   ]
  },
  {
   "cell_type": "code",
   "execution_count": 6,
   "metadata": {},
   "outputs": [],
   "source": [
    "train_ds = tf.data.Dataset.from_tensor_slices(\n",
    "    (x_train, y_train)).shuffle(10000).batch(32)\n",
    "\n",
    "test_ds = tf.data.Dataset.from_tensor_slices((x_test, y_test)).batch(32)"
   ]
  },
  {
   "cell_type": "code",
   "execution_count": 7,
   "metadata": {},
   "outputs": [],
   "source": [
    "# print(train_ds)\n",
    "# print(test_ds)"
   ]
  },
  {
   "cell_type": "code",
   "execution_count": 8,
   "metadata": {},
   "outputs": [],
   "source": [
    "class MyModel(Model):\n",
    "    def __init__(self):\n",
    "        super(MyModel, self).__init__()\n",
    "        self.conv1 = Conv2D(32, 3, activation='relu')\n",
    "        self.flatten = Flatten()\n",
    "        self.d1 = Dense(128, activation='relu')\n",
    "        self.d2 = Dense(10)\n",
    "\n",
    "    def call(self, x):\n",
    "        x = self.conv1(x)\n",
    "        x = self.flatten(x)\n",
    "        x = self.d1(x)\n",
    "        return self.d2(x)\n",
    "\n",
    "# Create an instance of the model\n",
    "model = MyModel()"
   ]
  },
  {
   "cell_type": "code",
   "execution_count": 9,
   "metadata": {},
   "outputs": [],
   "source": [
    "loss_object = tf.keras.losses.SparseCategoricalCrossentropy(from_logits=True)\n",
    "optimizer = tf.keras.optimizers.Adam()"
   ]
  },
  {
   "cell_type": "code",
   "execution_count": 10,
   "metadata": {},
   "outputs": [],
   "source": [
    "train_loss = tf.keras.metrics.Mean(name='train_loss')\n",
    "train_accuracy = tf.keras.metrics.SparseCategoricalAccuracy(name='train_accuracy')\n",
    "\n",
    "test_loss = tf.keras.metrics.Mean(name='test_loss')\n",
    "test_accuracy = tf.keras.metrics.SparseCategoricalAccuracy(name='test_accuracy')"
   ]
  },
  {
   "cell_type": "code",
   "execution_count": 11,
   "metadata": {},
   "outputs": [],
   "source": [
    "@tf.function\n",
    "def train_step(images, labels):\n",
    "    with tf.GradientTape() as tape:\n",
    "        # training=True is only needed if there are layers with different\n",
    "        # behavior during training versus inference (e.g. Dropout).\n",
    "        predictions = model(images, training=True)\n",
    "        loss = loss_object(labels, predictions)\n",
    "        gradients = tape.gradient(loss, model.trainable_variables)\n",
    "        optimizer.apply_gradients(zip(gradients, model.trainable_variables))\n",
    "\n",
    "        train_loss(loss)\n",
    "        train_accuracy(labels, predictions)"
   ]
  },
  {
   "cell_type": "code",
   "execution_count": 12,
   "metadata": {},
   "outputs": [],
   "source": [
    "@tf.function\n",
    "def test_step(images, labels):\n",
    "    # training=False is only needed if there are layers with different\n",
    "    # behavior during training versus inference (e.g. Dropout).\n",
    "    predictions = model(images, training=False)\n",
    "    t_loss = loss_object(labels, predictions)\n",
    "\n",
    "    test_loss(t_loss)\n",
    "    test_accuracy(labels, predictions)"
   ]
  },
  {
   "cell_type": "code",
   "execution_count": 13,
   "metadata": {},
   "outputs": [],
   "source": [
    "def train_model(epochs):\n",
    "    startTime = time.time()\n",
    "    for epoch in range(epochs):\n",
    "        # Reset the metrics at the start of the next epoch\n",
    "        train_loss.reset_states()\n",
    "        train_accuracy.reset_states()\n",
    "        test_loss.reset_states()\n",
    "        test_accuracy.reset_states()\n",
    "\n",
    "        for images, labels in train_ds:\n",
    "#             train_step(images, labels)\n",
    "#             to suppress the float warning, a better code is below , Henry-Jul. 2, 2020\n",
    "            train_step(tf.cast(images, tf.float32), labels)\n",
    "\n",
    "        for test_images, test_labels in test_ds:\n",
    "#             test_step(test_images, test_labels)\n",
    "            test_step(tf.cast(test_images, tf.float32), test_labels)\n",
    "\n",
    "        template = 'Epoch {} :: Loss: {}, Accuracy: {}, Test Loss: {}, Test Accuracy: {}'\n",
    "        print(template.format(epoch + 1,\n",
    "                                train_loss.result(),\n",
    "                                train_accuracy.result() * 100,\n",
    "                                test_loss.result(),\n",
    "                                test_accuracy.result() * 100))\n",
    "        \n",
    "    total_run_time = time.time() - startTime\n",
    "    return total_run_time"
   ]
  },
  {
   "cell_type": "markdown",
   "metadata": {},
   "source": [
    "### Set epochs and iterations"
   ]
  },
  {
   "cell_type": "code",
   "execution_count": 14,
   "metadata": {},
   "outputs": [],
   "source": [
    "epochs = 30\n",
    "iteration = 3 \n",
    "run_time = []"
   ]
  },
  {
   "cell_type": "code",
   "execution_count": 15,
   "metadata": {},
   "outputs": [],
   "source": [
    "# break-here # on purpose so the cpu kernel upon switching won't run & override the benchmark below"
   ]
  },
  {
   "cell_type": "markdown",
   "metadata": {},
   "source": [
    "### Kernel :: tf-cpu-env  :: using CPU"
   ]
  },
  {
   "cell_type": "code",
   "execution_count": null,
   "metadata": {
    "scrolled": true
   },
   "outputs": [
    {
     "name": "stdout",
     "output_type": "stream",
     "text": [
      "------------------------------\n",
      " Iteration # 1\n",
      "Epoch 1 :: Loss: 0.1364217847585678, Accuracy: 95.96833801269531, Test Loss: 0.05502424016594887, Test Accuracy: 98.08999633789062\n",
      "Epoch 2 :: Loss: 0.04312481731176376, Accuracy: 98.64166259765625, Test Loss: 0.04803283512592316, Test Accuracy: 98.3499984741211\n",
      "Epoch 3 :: Loss: 0.02306361496448517, Accuracy: 99.25, Test Loss: 0.049662452191114426, Test Accuracy: 98.38999938964844\n",
      "Epoch 4 :: Loss: 0.013225630857050419, Accuracy: 99.55999755859375, Test Loss: 0.054637085646390915, Test Accuracy: 98.43999481201172\n",
      "Epoch 5 :: Loss: 0.009830133058130741, Accuracy: 99.66333770751953, Test Loss: 0.05781836062669754, Test Accuracy: 98.4000015258789\n",
      "Epoch 6 :: Loss: 0.0066680097952485085, Accuracy: 99.77833557128906, Test Loss: 0.059936296194791794, Test Accuracy: 98.54000091552734\n",
      "Epoch 7 :: Loss: 0.00579359894618392, Accuracy: 99.79666137695312, Test Loss: 0.08149466663599014, Test Accuracy: 98.15999603271484\n",
      "Epoch 8 :: Loss: 0.0062210094183683395, Accuracy: 99.7750015258789, Test Loss: 0.06216691434383392, Test Accuracy: 98.55999755859375\n",
      "Epoch 9 :: Loss: 0.0035655538085848093, Accuracy: 99.87666320800781, Test Loss: 0.07005910575389862, Test Accuracy: 98.37999725341797\n",
      "Epoch 10 :: Loss: 0.0029569556936621666, Accuracy: 99.89833068847656, Test Loss: 0.07535693049430847, Test Accuracy: 98.50999450683594\n",
      "Epoch 11 :: Loss: 0.0043387338519096375, Accuracy: 99.8616714477539, Test Loss: 0.09084570407867432, Test Accuracy: 98.31999969482422\n",
      "Epoch 12 :: Loss: 0.0033834276255220175, Accuracy: 99.88666534423828, Test Loss: 0.09527622908353806, Test Accuracy: 98.33999633789062\n",
      "Epoch 13 :: Loss: 0.002647913061082363, Accuracy: 99.91000366210938, Test Loss: 0.08650866895914078, Test Accuracy: 98.41999816894531\n",
      "Epoch 14 :: Loss: 0.0018066749908030033, Accuracy: 99.9433364868164, Test Loss: 0.08202946186065674, Test Accuracy: 98.6199951171875\n",
      "Epoch 15 :: Loss: 0.0015507241478189826, Accuracy: 99.94833374023438, Test Loss: 0.09297976642847061, Test Accuracy: 98.52999877929688\n",
      "Epoch 16 :: Loss: 0.002728847786784172, Accuracy: 99.90833282470703, Test Loss: 0.09725130349397659, Test Accuracy: 98.38999938964844\n"
     ]
    }
   ],
   "source": [
    "# with cpu\n",
    "for i in range(iteration):\n",
    "    print(f'{(\"-\")*30}\\n Iteration # {i + 1}')\n",
    "    run_time.append(train_model(epochs))\n",
    "    \n",
    "for i in range(iteration):\n",
    "    print(f'{(\"-\")*30}\\nCPU Run Summary ::\\n Run # {i + 1} ::\\\n",
    "        {round(run_time[i]/60, 3)} {\"minutes\" if run_time[i]/60 > 1 else \"minute\"}')"
   ]
  },
  {
   "cell_type": "code",
   "execution_count": 17,
   "metadata": {},
   "outputs": [
    {
     "ename": "SyntaxError",
     "evalue": "invalid syntax (<ipython-input-17-f242f9b63921>, line 1)",
     "output_type": "error",
     "traceback": [
      "\u001b[1;36m  File \u001b[1;32m\"<ipython-input-17-f242f9b63921>\"\u001b[1;36m, line \u001b[1;32m1\u001b[0m\n\u001b[1;33m    break-here # on purpose so the cpu kernel upon switching won't run & override the benchmark below\u001b[0m\n\u001b[1;37m         ^\u001b[0m\n\u001b[1;31mSyntaxError\u001b[0m\u001b[1;31m:\u001b[0m invalid syntax\n"
     ]
    }
   ],
   "source": [
    "break-here # on purpose so the cpu kernel upon switching won't run & override the benchmark below"
   ]
  },
  {
   "cell_type": "code",
   "execution_count": null,
   "metadata": {},
   "outputs": [],
   "source": []
  },
  {
   "cell_type": "markdown",
   "metadata": {},
   "source": [
    "### Kernel :: tf-gpu-env  :: using GPU"
   ]
  },
  {
   "cell_type": "code",
   "execution_count": 15,
   "metadata": {},
   "outputs": [
    {
     "name": "stdout",
     "output_type": "stream",
     "text": [
      "------------------------------\n",
      " Iteration # 1\n",
      "Epoch 1 :: Loss: 0.13836054503917694, Accuracy: 95.87332916259766, Test Loss: 0.06307229399681091, Test Accuracy: 97.95999908447266\n",
      "Epoch 2 :: Loss: 0.042076319456100464, Accuracy: 98.75, Test Loss: 0.05329422280192375, Test Accuracy: 98.4000015258789\n",
      "Epoch 3 :: Loss: 0.020792454481124878, Accuracy: 99.3499984741211, Test Loss: 0.0670895129442215, Test Accuracy: 98.15999603271484\n",
      "Epoch 4 :: Loss: 0.013897608034312725, Accuracy: 99.5250015258789, Test Loss: 0.06296999752521515, Test Accuracy: 98.30999755859375\n",
      "Epoch 5 :: Loss: 0.010262991301715374, Accuracy: 99.63999938964844, Test Loss: 0.0723794624209404, Test Accuracy: 98.1500015258789\n",
      "Epoch 6 :: Loss: 0.006475887261331081, Accuracy: 99.79166412353516, Test Loss: 0.07033147662878036, Test Accuracy: 98.3699951171875\n",
      "Epoch 7 :: Loss: 0.00624010618776083, Accuracy: 99.78333282470703, Test Loss: 0.07001430541276932, Test Accuracy: 98.37999725341797\n",
      "Epoch 8 :: Loss: 0.003922380972653627, Accuracy: 99.87166595458984, Test Loss: 0.07192402333021164, Test Accuracy: 98.41999816894531\n",
      "Epoch 9 :: Loss: 0.004371281247586012, Accuracy: 99.8499984741211, Test Loss: 0.08081340789794922, Test Accuracy: 98.38999938964844\n",
      "Epoch 10 :: Loss: 0.0036115101538598537, Accuracy: 99.8883285522461, Test Loss: 0.09995730221271515, Test Accuracy: 98.19999694824219\n",
      "Epoch 11 :: Loss: 0.002966315485537052, Accuracy: 99.90833282470703, Test Loss: 0.08505955338478088, Test Accuracy: 98.45999908447266\n",
      "Epoch 12 :: Loss: 0.0030531908851116896, Accuracy: 99.90499877929688, Test Loss: 0.10293696075677872, Test Accuracy: 98.16999816894531\n",
      "Epoch 13 :: Loss: 0.0016898921458050609, Accuracy: 99.95500183105469, Test Loss: 0.11247893422842026, Test Accuracy: 98.19999694824219\n",
      "Epoch 14 :: Loss: 0.0037054503336548805, Accuracy: 99.90499877929688, Test Loss: 0.08812841773033142, Test Accuracy: 98.62999725341797\n",
      "Epoch 15 :: Loss: 0.0026832984294742346, Accuracy: 99.9183349609375, Test Loss: 0.10183423012495041, Test Accuracy: 98.44999694824219\n",
      "Epoch 16 :: Loss: 0.0035874617751687765, Accuracy: 99.87166595458984, Test Loss: 0.09879883378744125, Test Accuracy: 98.56999969482422\n",
      "Epoch 17 :: Loss: 0.001636105589568615, Accuracy: 99.9383316040039, Test Loss: 0.12452030181884766, Test Accuracy: 98.3499984741211\n",
      "Epoch 18 :: Loss: 0.0011337118921801448, Accuracy: 99.96499633789062, Test Loss: 0.10916858911514282, Test Accuracy: 98.52999877929688\n",
      "Epoch 19 :: Loss: 0.002676070900633931, Accuracy: 99.90666198730469, Test Loss: 0.10124414414167404, Test Accuracy: 98.48999786376953\n",
      "Epoch 20 :: Loss: 0.002133841160684824, Accuracy: 99.94000244140625, Test Loss: 0.11551708728075027, Test Accuracy: 98.44999694824219\n",
      "Epoch 21 :: Loss: 0.0010675257071852684, Accuracy: 99.9749984741211, Test Loss: 0.10338598489761353, Test Accuracy: 98.5999984741211\n",
      "Epoch 22 :: Loss: 0.0014212459791451693, Accuracy: 99.95333862304688, Test Loss: 0.14159181714057922, Test Accuracy: 98.36000061035156\n",
      "Epoch 23 :: Loss: 0.0010765279876068234, Accuracy: 99.97166442871094, Test Loss: 0.11596813797950745, Test Accuracy: 98.52999877929688\n",
      "Epoch 24 :: Loss: 0.0022787628695368767, Accuracy: 99.93167114257812, Test Loss: 0.14438991248607635, Test Accuracy: 98.29999542236328\n",
      "Epoch 25 :: Loss: 0.0007468537078239024, Accuracy: 99.9800033569336, Test Loss: 0.11323453485965729, Test Accuracy: 98.58000183105469\n",
      "Epoch 26 :: Loss: 6.255338121263776e-06, Accuracy: 100.0, Test Loss: 0.11372552067041397, Test Accuracy: 98.58999633789062\n",
      "Epoch 27 :: Loss: 1.4881627521390328e-06, Accuracy: 100.0, Test Loss: 0.11546749621629715, Test Accuracy: 98.5999984741211\n",
      "Epoch 28 :: Loss: 7.453290322700923e-07, Accuracy: 100.0, Test Loss: 0.11801289767026901, Test Accuracy: 98.61000061035156\n",
      "Epoch 29 :: Loss: 3.6763509569937014e-07, Accuracy: 100.0, Test Loss: 0.12140856683254242, Test Accuracy: 98.61000061035156\n",
      "Epoch 30 :: Loss: 1.7032682819717593e-07, Accuracy: 100.0, Test Loss: 0.12567584216594696, Test Accuracy: 98.58000183105469\n",
      "------------------------------\n",
      " Iteration # 2\n",
      "Epoch 1 :: Loss: 7.901169141177888e-08, Accuracy: 100.0, Test Loss: 0.13043825328350067, Test Accuracy: 98.5999984741211\n",
      "Epoch 2 :: Loss: 3.698266581864118e-08, Accuracy: 100.0, Test Loss: 0.13606590032577515, Test Accuracy: 98.58999633789062\n",
      "Epoch 3 :: Loss: 1.7716480726903683e-08, Accuracy: 100.0, Test Loss: 0.14234879612922668, Test Accuracy: 98.5999984741211\n",
      "Epoch 4 :: Loss: 8.753934466199098e-09, Accuracy: 100.0, Test Loss: 0.1485760658979416, Test Accuracy: 98.58999633789062\n",
      "Epoch 5 :: Loss: 4.531939268304086e-09, Accuracy: 100.0, Test Loss: 0.1553088128566742, Test Accuracy: 98.5999984741211\n",
      "Epoch 6 :: Loss: 2.4914739160664112e-09, Accuracy: 100.0, Test Loss: 0.16134637594223022, Test Accuracy: 98.5999984741211\n",
      "Epoch 7 :: Loss: 1.4940896297943596e-09, Accuracy: 100.0, Test Loss: 0.16509948670864105, Test Accuracy: 98.58000183105469\n",
      "Epoch 8 :: Loss: 9.179114690560652e-10, Accuracy: 100.0, Test Loss: 0.1698651909828186, Test Accuracy: 98.6199951171875\n",
      "Epoch 9 :: Loss: 5.761781607382943e-10, Accuracy: 100.0, Test Loss: 0.1720658540725708, Test Accuracy: 98.5999984741211\n",
      "Epoch 10 :: Loss: 4.3710068897695464e-10, Accuracy: 100.0, Test Loss: 0.1709417849779129, Test Accuracy: 98.5999984741211\n",
      "Epoch 11 :: Loss: 3.675619530962848e-10, Accuracy: 100.0, Test Loss: 0.17046447098255157, Test Accuracy: 98.5999984741211\n",
      "Epoch 12 :: Loss: 3.159045802725302e-10, Accuracy: 100.0, Test Loss: 0.17060962319374084, Test Accuracy: 98.61000061035156\n",
      "Epoch 13 :: Loss: 2.960363620907458e-10, Accuracy: 100.0, Test Loss: 0.17011414468288422, Test Accuracy: 98.6199951171875\n",
      "Epoch 14 :: Loss: 2.4835267176115394e-10, Accuracy: 100.0, Test Loss: 0.1679452806711197, Test Accuracy: 98.58000183105469\n",
      "Epoch 15 :: Loss: 2.54313126113459e-10, Accuracy: 100.0, Test Loss: 0.1678640991449356, Test Accuracy: 98.56999969482422\n",
      "Epoch 16 :: Loss: 2.2649764008786377e-10, Accuracy: 100.0, Test Loss: 0.16761580109596252, Test Accuracy: 98.56999969482422\n",
      "Epoch 17 :: Loss: 2.0861623539758511e-10, Accuracy: 100.0, Test Loss: 0.1671111285686493, Test Accuracy: 98.56999969482422\n",
      "Epoch 18 :: Loss: 2.0861623539758511e-10, Accuracy: 100.0, Test Loss: 0.16750523447990417, Test Accuracy: 98.58999633789062\n",
      "Epoch 19 :: Loss: 1.8080073549420206e-10, Accuracy: 100.0, Test Loss: 0.1669064164161682, Test Accuracy: 98.58000183105469\n",
      "Epoch 20 :: Loss: 1.788139220026963e-10, Accuracy: 100.0, Test Loss: 0.16700954735279083, Test Accuracy: 98.58000183105469\n",
      "Epoch 21 :: Loss: 1.7682709463340274e-10, Accuracy: 100.0, Test Loss: 0.16691535711288452, Test Accuracy: 98.56999969482422\n",
      "Epoch 22 :: Loss: 1.589457038209119e-10, Accuracy: 100.0, Test Loss: 0.16673366725444794, Test Accuracy: 98.5999984741211\n",
      "Epoch 23 :: Loss: 1.3907748563912747e-10, Accuracy: 100.0, Test Loss: 0.16646791994571686, Test Accuracy: 98.58999633789062\n",
      "Epoch 24 :: Loss: 1.52985235590819e-10, Accuracy: 100.0, Test Loss: 0.16652506589889526, Test Accuracy: 98.58000183105469\n",
      "Epoch 25 :: Loss: 1.4106431300842104e-10, Accuracy: 100.0, Test Loss: 0.1673223376274109, Test Accuracy: 98.58000183105469\n",
      "Epoch 26 :: Loss: 1.231829221959302e-10, Accuracy: 100.0, Test Loss: 0.16692689061164856, Test Accuracy: 98.58999633789062\n",
      "Epoch 27 :: Loss: 1.172224539658373e-10, Accuracy: 100.0, Test Loss: 0.1677115261554718, Test Accuracy: 98.58000183105469\n",
      "Epoch 28 :: Loss: 1.0927517224423866e-10, Accuracy: 100.0, Test Loss: 0.16770027577877045, Test Accuracy: 98.56999969482422\n",
      "Epoch 29 :: Loss: 1.0132789052264002e-10, Accuracy: 100.0, Test Loss: 0.16806752979755402, Test Accuracy: 98.58000183105469\n",
      "Epoch 30 :: Loss: 9.338060186214747e-11, Accuracy: 100.0, Test Loss: 0.1682080626487732, Test Accuracy: 98.61000061035156\n",
      "------------------------------\n",
      " Iteration # 3\n",
      "Epoch 1 :: Loss: 9.934107009224036e-11, Accuracy: 100.0, Test Loss: 0.16897264122962952, Test Accuracy: 98.58000183105469\n",
      "Epoch 2 :: Loss: 7.947285191045594e-11, Accuracy: 100.0, Test Loss: 0.16912484169006348, Test Accuracy: 98.5999984741211\n",
      "Epoch 3 :: Loss: 7.351239061925696e-11, Accuracy: 100.0, Test Loss: 0.17043980956077576, Test Accuracy: 98.5999984741211\n",
      "Epoch 4 :: Loss: 6.357828152836476e-11, Accuracy: 100.0, Test Loss: 0.17121168971061707, Test Accuracy: 98.61000061035156\n"
     ]
    },
    {
     "name": "stdout",
     "output_type": "stream",
     "text": [
      "Epoch 5 :: Loss: 5.563099633731916e-11, Accuracy: 100.0, Test Loss: 0.17263054847717285, Test Accuracy: 98.5999984741211\n",
      "Epoch 6 :: Loss: 5.960464066756543e-11, Accuracy: 100.0, Test Loss: 0.17398644983768463, Test Accuracy: 98.6199951171875\n",
      "Epoch 7 :: Loss: 5.563099633731916e-11, Accuracy: 100.0, Test Loss: 0.17432323098182678, Test Accuracy: 98.62999725341797\n",
      "Epoch 8 :: Loss: 4.967053504612018e-11, Accuracy: 100.0, Test Loss: 0.1751563549041748, Test Accuracy: 98.6199951171875\n",
      "Epoch 9 :: Loss: 3.774960552482831e-11, Accuracy: 100.0, Test Loss: 0.17534828186035156, Test Accuracy: 98.5999984741211\n",
      "Epoch 10 :: Loss: 4.967053504612018e-11, Accuracy: 100.0, Test Loss: 0.1767193078994751, Test Accuracy: 98.58999633789062\n",
      "Epoch 11 :: Loss: 4.172324638562763e-11, Accuracy: 100.0, Test Loss: 0.17688961327075958, Test Accuracy: 98.61000061035156\n",
      "Epoch 12 :: Loss: 3.973642595522797e-11, Accuracy: 100.0, Test Loss: 0.17850342392921448, Test Accuracy: 98.58000183105469\n",
      "Epoch 13 :: Loss: 3.57627816249817e-11, Accuracy: 100.0, Test Loss: 0.17873147130012512, Test Accuracy: 98.58999633789062\n",
      "Epoch 14 :: Loss: 3.57627816249817e-11, Accuracy: 100.0, Test Loss: 0.1799972802400589, Test Accuracy: 98.58000183105469\n",
      "Epoch 15 :: Loss: 4.3710070285474245e-11, Accuracy: 100.0, Test Loss: 0.18151672184467316, Test Accuracy: 98.58000183105469\n",
      "Epoch 16 :: Loss: 3.57627816249817e-11, Accuracy: 100.0, Test Loss: 0.18208634853363037, Test Accuracy: 98.5999984741211\n",
      "Epoch 17 :: Loss: 3.178914076418238e-11, Accuracy: 100.0, Test Loss: 0.18347294628620148, Test Accuracy: 98.5999984741211\n",
      "Epoch 18 :: Loss: 2.9802316864335765e-11, Accuracy: 100.0, Test Loss: 0.18443553149700165, Test Accuracy: 98.5999984741211\n",
      "Epoch 19 :: Loss: 2.980232033378272e-11, Accuracy: 100.0, Test Loss: 0.18525294959545135, Test Accuracy: 98.58999633789062\n",
      "Epoch 20 :: Loss: 3.57627816249817e-11, Accuracy: 100.0, Test Loss: 0.1863039880990982, Test Accuracy: 98.58999633789062\n",
      "Epoch 21 :: Loss: 3.377596119458204e-11, Accuracy: 100.0, Test Loss: 0.1868503987789154, Test Accuracy: 98.58999633789062\n",
      "Epoch 22 :: Loss: 2.7815496433936104e-11, Accuracy: 100.0, Test Loss: 0.18702436983585358, Test Accuracy: 98.58999633789062\n",
      "Epoch 23 :: Loss: 3.178914076418238e-11, Accuracy: 100.0, Test Loss: 0.1888011395931244, Test Accuracy: 98.58999633789062\n",
      "Epoch 24 :: Loss: 2.582867773825992e-11, Accuracy: 100.0, Test Loss: 0.18990206718444824, Test Accuracy: 98.61000061035156\n",
      "Epoch 25 :: Loss: 2.781549816865958e-11, Accuracy: 100.0, Test Loss: 0.19102749228477478, Test Accuracy: 98.58999633789062\n",
      "Epoch 26 :: Loss: 3.774960552482831e-11, Accuracy: 100.0, Test Loss: 0.19200284779071808, Test Accuracy: 98.61000061035156\n",
      "Epoch 27 :: Loss: 2.781549816865958e-11, Accuracy: 100.0, Test Loss: 0.1924852430820465, Test Accuracy: 98.5999984741211\n",
      "Epoch 28 :: Loss: 2.582867773825992e-11, Accuracy: 100.0, Test Loss: 0.19373027980327606, Test Accuracy: 98.58999633789062\n",
      "Epoch 29 :: Loss: 2.582867773825992e-11, Accuracy: 100.0, Test Loss: 0.1944330930709839, Test Accuracy: 98.5999984741211\n",
      "Epoch 30 :: Loss: 2.1855035142737123e-11, Accuracy: 100.0, Test Loss: 0.19579879939556122, Test Accuracy: 98.58999633789062\n",
      "------------------------------\n",
      "GPU Run Summary ::\n",
      " Run # 1 ::        1.193 minutes\n",
      "------------------------------\n",
      "GPU Run Summary ::\n",
      " Run # 2 ::        1.158 minutes\n",
      "------------------------------\n",
      "GPU Run Summary ::\n",
      " Run # 3 ::        1.252 minutes\n"
     ]
    }
   ],
   "source": [
    "# with cpu\n",
    "for i in range(iteration):\n",
    "    print(f'{(\"-\")*30}\\n Iteration # {i + 1}')\n",
    "    run_time.append(train_model(epochs))\n",
    "    \n",
    "for i in range(iteration):\n",
    "    print(f'{(\"-\")*30}\\nGPU Run Summary ::\\n Run # {i + 1} ::\\\n",
    "        {round(run_time[i]/60, 3)} {\"minutes\" if run_time[i]/60 > 1 else \"minute\"}')"
   ]
  },
  {
   "cell_type": "code",
   "execution_count": null,
   "metadata": {},
   "outputs": [],
   "source": []
  }
 ],
 "metadata": {
  "kernelspec": {
   "display_name": "tf-cpu-env",
   "language": "python",
   "name": "tf-cpu-env"
  },
  "language_info": {
   "codemirror_mode": {
    "name": "ipython",
    "version": 3
   },
   "file_extension": ".py",
   "mimetype": "text/x-python",
   "name": "python",
   "nbconvert_exporter": "python",
   "pygments_lexer": "ipython3",
   "version": "3.7.7"
  }
 },
 "nbformat": 4,
 "nbformat_minor": 4
}
